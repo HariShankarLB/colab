{
  "nbformat": 4,
  "nbformat_minor": 0,
  "metadata": {
    "colab": {
      "provenance": [],
      "authorship_tag": "ABX9TyMQHG9xUt2i+7u62zUQdUBm",
      "include_colab_link": true
    },
    "kernelspec": {
      "name": "python3",
      "display_name": "Python 3"
    },
    "language_info": {
      "name": "python"
    }
  },
  "cells": [
    {
      "cell_type": "markdown",
      "metadata": {
        "id": "view-in-github",
        "colab_type": "text"
      },
      "source": [
        "<a href=\"https://colab.research.google.com/github/HariShankarLB/colab/blob/main/DataScienceEcosystem.ipynb\" target=\"_parent\"><img src=\"https://colab.research.google.com/assets/colab-badge.svg\" alt=\"Open In Colab\"/></a>"
      ]
    },
    {
      "cell_type": "markdown",
      "source": [
        "# Data Science Tools and Ecosystem"
      ],
      "metadata": {
        "id": "h1vuLZgTeSxE"
      }
    },
    {
      "cell_type": "markdown",
      "source": [
        "# In this notebook, Data Science Tools and Ecosystem are summarized."
      ],
      "metadata": {
        "id": "SSMU5xc7eopi"
      }
    },
    {
      "cell_type": "markdown",
      "source": [
        "# Some of the popular languages that Data Scientists use are:\n",
        "1. Python\n",
        "2. R\n",
        "3. SQL\n"
      ],
      "metadata": {
        "id": "Ukk9PYsLe1aS"
      }
    },
    {
      "cell_type": "markdown",
      "source": [
        "# Some of the commonly used libraries used by Data Scientists include:\n",
        "1. Pandas\n",
        "2. NumPy\n",
        "3. Matplotlib\n"
      ],
      "metadata": {
        "id": "N23k1v8Ke9bk"
      }
    },
    {
      "cell_type": "markdown",
      "source": [
        "# Data Science Tools\n",
        "1.   Jupyter Notebook\n",
        "2.   RStudio\n",
        "3. VS Code            "
      ],
      "metadata": {
        "id": "prADXY5TfBFE"
      }
    },
    {
      "cell_type": "markdown",
      "source": [
        "### Below are a few examples of evaluating arithmetic expressions in Python."
      ],
      "metadata": {
        "id": "x5ESDZi7fiy8"
      }
    },
    {
      "cell_type": "code",
      "source": [
        "# This a simple arithmetic expression to multiply then add integers\n",
        "(3*4)+5\n"
      ],
      "metadata": {
        "colab": {
          "base_uri": "https://localhost:8080/"
        },
        "id": "-BPDgO2xeVc6",
        "outputId": "591b618b-ef93-4ea9-e29f-5f4b2b0a52f6"
      },
      "execution_count": 2,
      "outputs": [
        {
          "output_type": "execute_result",
          "data": {
            "text/plain": [
              "17"
            ]
          },
          "metadata": {},
          "execution_count": 2
        }
      ]
    },
    {
      "cell_type": "code",
      "source": [
        "# This will convert 200 minutes to hours by dividing by 60\n",
        "200 / 60\n"
      ],
      "metadata": {
        "colab": {
          "base_uri": "https://localhost:8080/"
        },
        "id": "txNuDgTcflkY",
        "outputId": "a84451e9-1d12-4a80-a354-a601eeb2623d"
      },
      "execution_count": 3,
      "outputs": [
        {
          "output_type": "execute_result",
          "data": {
            "text/plain": [
              "3.3333333333333335"
            ]
          },
          "metadata": {},
          "execution_count": 3
        }
      ]
    },
    {
      "cell_type": "markdown",
      "source": [
        "**Objectives:**\n",
        "- List popular languages for Data Science\n",
        "- List commonly used libraries for Data Science\n",
        "- Create tables using Markdown\n",
        "- Perform basic arithmetic operations using Python\n"
      ],
      "metadata": {
        "id": "0Slo4fD3frbA"
      }
    },
    {
      "cell_type": "markdown",
      "source": [
        "## Author\n",
        "Hari Shankar"
      ],
      "metadata": {
        "id": "6rNuSiByfywM"
      }
    },
    {
      "cell_type": "code",
      "source": [],
      "metadata": {
        "id": "Y--FXDEtfxJS"
      },
      "execution_count": null,
      "outputs": []
    }
  ]
}